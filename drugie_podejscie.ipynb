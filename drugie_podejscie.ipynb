{
 "cells": [
  {
   "cell_type": "code",
   "id": "initial_id",
   "metadata": {
    "collapsed": true,
    "ExecuteTime": {
     "end_time": "2025-04-21T09:09:54.366523Z",
     "start_time": "2025-04-21T09:09:54.362261Z"
    }
   },
   "source": [
    "from tempfile import TemporaryDirectory\n",
    "from typing import Literal, Tuple, List\n",
    "from random import randint\n",
    "import numpy as np\n",
    "import pandas as pd\n",
    "import matplotlib.pyplot as plt\n",
    "import seaborn as sns\n",
    "from PIL import Image"
   ],
   "outputs": [],
   "execution_count": 220
  },
  {
   "metadata": {
    "ExecuteTime": {
     "end_time": "2025-04-21T09:11:30.601138Z",
     "start_time": "2025-04-21T09:11:30.597511Z"
    }
   },
   "cell_type": "code",
   "source": [
    "# CONSTANTS AND PARAMETERS\n",
    "CITIES = 50\n",
    "POP_SIZE = 50\n",
    "CROSS_PROB = 0.9\n",
    "MUTATION_PROB = 0.8\n",
    "TOURNAMENT_SIZE = 6\n",
    "SELECTION_METHOD: Literal[\"tournament\", \"roulette\"] = \"tournament\"\n",
    "SUCCESSION_METHOD: Literal[\"full\", \"partial\", \"elitist\"] = \"elitist\"\n",
    "CITIES_X_LIMIT = 300\n",
    "CITIES_Y_LIMIT = 300"
   ],
   "id": "5b36ce83d7985e3",
   "outputs": [],
   "execution_count": 225
  },
  {
   "metadata": {
    "ExecuteTime": {
     "end_time": "2025-04-21T08:50:53.067394Z",
     "start_time": "2025-04-21T08:50:53.062737Z"
    }
   },
   "cell_type": "code",
   "source": [
    "def setup_cities(n: int, limit_x: int, limit_y: int, shape: Literal[\"ring\", \"random\"] = \"ring\") -> Tuple[np.ndarray, np.ndarray]:\n",
    "    \"\"\"\n",
    "    Generate random coordinates for cities.\n",
    "\n",
    "    :param shape: Shape of the city distribution ('random' or 'ring')\n",
    "    :param n: Number of cities\n",
    "    :param limit_x: X-axis limit\n",
    "    :param limit_y: Y-axis limit\n",
    "    :return: Array of city coordinates\n",
    "    \"\"\"\n",
    "    match shape:\n",
    "        case 'random':\n",
    "            x = np.random.randint(0, limit_x, size=n)\n",
    "            y = np.random.randint(0, limit_y, size=n)\n",
    "        case 'ring':\n",
    "            angles = np.linspace(0, 2 * np.pi, n, endpoint=False)\n",
    "            center_x, center_y = limit_x // 2, limit_y // 2\n",
    "            radius_x, radius_y = limit_x // 2, limit_y // 2\n",
    "            x = (center_x + radius_x * np.cos(angles)).astype(int)\n",
    "            y = (center_y + radius_y * np.sin(angles)).astype(int)\n",
    "        case _:\n",
    "            raise ValueError(\"Shape must be either random or ring!\")\n",
    "\n",
    "    return x,y\n",
    "\n",
    "\n",
    "generated_cities = setup_cities(CITIES, CITIES_X_LIMIT, CITIES_Y_LIMIT)"
   ],
   "id": "6520a780f1533f58",
   "outputs": [],
   "execution_count": 181
  },
  {
   "metadata": {
    "ExecuteTime": {
     "end_time": "2025-04-21T06:32:17.016352Z",
     "start_time": "2025-04-21T06:32:17.013421Z"
    }
   },
   "cell_type": "code",
   "source": [
    "def show_cities(cities: Tuple[np.ndarray, np.ndarray]) -> None:\n",
    "    \"\"\"\n",
    "    Visualize the cities on a scatter plot\n",
    "\n",
    "    :param cities: Tuple of city coordinates\n",
    "    \"\"\"\n",
    "    plt.figure(figsize=(10, 10))\n",
    "    plt.scatter(cities[0], cities[1], marker='o')\n",
    "    plt.xlim(-10, CITIES_X_LIMIT + 10)\n",
    "    plt.ylim(-10, CITIES_Y_LIMIT + 10)\n",
    "    plt.title(\"Cities Distribution\")\n",
    "    plt.xlabel(\"X Coordinate\")\n",
    "    plt.ylabel(\"Y Coordinate\")\n",
    "    plt.grid()\n",
    "    plt.show()"
   ],
   "id": "1728abcedc3f83b0",
   "outputs": [],
   "execution_count": 27
  },
  {
   "metadata": {
    "ExecuteTime": {
     "end_time": "2025-04-21T09:08:12.344414Z",
     "start_time": "2025-04-21T09:08:12.340013Z"
    }
   },
   "cell_type": "code",
   "source": [
    "def show_connections(cities: Tuple[np.ndarray, np.ndarray], population: np.ndarray, ind: int, tmpdir: TemporaryDirectory) -> None:\n",
    "    \"\"\"\n",
    "    Show how the cities are connected in the best route.\n",
    "\n",
    "    :param cities: Tuple of x and y coordinates for cities.\n",
    "    :param population: The population containing chromosomes (routes) of city indices.\n",
    "    :param ind: Index\n",
    "    :param tmpdir: Temporary directory to save the frames.\n",
    "    :return: The matplotlib figure object.\n",
    "    \"\"\"\n",
    "    plt.figure(figsize=(10, 10))\n",
    "    plt.scatter(cities[0], cities[1], marker='o')\n",
    "    plt.xlim(-10, CITIES_X_LIMIT + 10)\n",
    "    plt.ylim(-10, CITIES_Y_LIMIT + 10)\n",
    "    plt.title(\"Cities Distribution\")\n",
    "    plt.xlabel(\"X Coordinate\")\n",
    "    plt.ylabel(\"Y Coordinate\")\n",
    "    plt.grid()\n",
    "\n",
    "    best_route = population[-1]\n",
    "\n",
    "    # Ensure that best_route contains only valid indices\n",
    "    best_route = np.clip(best_route, 0, len(cities[0]) - 1)  # Ensures indices are within bounds\n",
    "\n",
    "    # Draw lines between cities in the best route\n",
    "    for i in range(len(best_route) - 1):\n",
    "        # Ensure indices are integers when accessing the cities array\n",
    "        index1 = int(best_route[i])  # City index from the route\n",
    "        index2 = int(best_route[i + 1])  # City index from the route\n",
    "\n",
    "        # Plot line between cities\n",
    "        x_values = [cities[0][index1], cities[0][index2]]\n",
    "        y_values = [cities[1][index1], cities[1][index2]]\n",
    "        plt.plot(x_values, y_values, color='blue')\n",
    "\n",
    "    plt.savefig(f\"{tmpdir}/frame_{ind}.png\")\n",
    "    plt.close()"
   ],
   "id": "7947300f8197ee1f",
   "outputs": [],
   "execution_count": 215
  },
  {
   "metadata": {
    "ExecuteTime": {
     "end_time": "2025-04-21T09:09:57.306690Z",
     "start_time": "2025-04-21T09:09:57.302589Z"
    }
   },
   "cell_type": "code",
   "source": [
    "def generate_gif(cities: Tuple[np.ndarray, np.ndarray], populations: List[np.ndarray]) -> None:\n",
    "    with TemporaryDirectory() as tmpdir:\n",
    "        for ind, pop in enumerate(populations):\n",
    "            show_connections(cities, pop, ind, tmpdir)\n",
    "\n",
    "        frames = [Image.open(f\"{tmpdir}/frame_{i}.png\") for i in range(len(populations))]\n",
    "        frames[0].save(\"cities.gif\", save_all=True, append_images=frames[1:], duration=500, loop=0)\n"
   ],
   "id": "78bec96eb704db78",
   "outputs": [],
   "execution_count": 221
  },
  {
   "metadata": {
    "ExecuteTime": {
     "end_time": "2025-04-21T06:32:17.436372Z",
     "start_time": "2025-04-21T06:32:17.371467Z"
    }
   },
   "cell_type": "code",
   "source": "show_cities(generated_cities)",
   "id": "3ed4c7b595b09faf",
   "outputs": [
    {
     "data": {
      "text/plain": [
       "<Figure size 1000x1000 with 1 Axes>"
      ],
      "image/png": "[encoded data removed]"
     },
     "metadata": {},
     "output_type": "display_data"
    }
   ],
   "execution_count": 28
  },
  {
   "metadata": {
    "ExecuteTime": {
     "end_time": "2025-04-21T06:34:22.690373Z",
     "start_time": "2025-04-21T06:34:22.687512Z"
    }
   },
   "cell_type": "code",
   "source": [
    "def compute_distance_matrix(cities: Tuple[np.ndarray, np.ndarray]) -> np.ndarray:\n",
    "    \"\"\"\n",
    "    Compute the Euclidean distance matrix between all pairs of cities to be used later in the calculations\n",
    "\n",
    "    :param cities: Tuple of city coordinates\n",
    "    :return: 2D array (matrix) of distances\n",
    "    \"\"\"\n",
    "    x, y = cities\n",
    "    coords = np.stack((x, y), axis=1)\n",
    "    diff = coords[:, np.newaxis, :] - coords[np.newaxis, :, :]\n",
    "    dist_matrix = np.sqrt(np.sum(diff**2, axis=-1))\n",
    "    return dist_matrix\n",
    "\n",
    "\n",
    "distances = compute_distance_matrix(generated_cities)"
   ],
   "id": "da82238d0d396ad4",
   "outputs": [],
   "execution_count": 29
  },
  {
   "metadata": {
    "ExecuteTime": {
     "end_time": "2025-04-21T06:43:45.426787Z",
     "start_time": "2025-04-21T06:43:45.422785Z"
    }
   },
   "cell_type": "code",
   "source": [
    "def calculate_distance(chromosome: np.ndarray, dist_matrix: np.ndarray = distances) -> float:\n",
    "    \"\"\"\n",
    "    Calculate the total distance of a given chromosome (route) based on the distance matrix\n",
    "\n",
    "    :param chromosome: Chromosome representing the route\n",
    "    :param dist_matrix: Distance matrix between cities\n",
    "    :return: Total distance of the route\n",
    "    \"\"\"\n",
    "    distance = sum(\n",
    "        dist_matrix[chromosome[i], chromosome[i - 1]] for i in range(len(chromosome))\n",
    "    )\n",
    "\n",
    "    return distance\n",
    "\n",
    "\n",
    "test_chromosome = np.random.permutation(len(generated_cities))\n",
    "calculate_distance(test_chromosome, distances)"
   ],
   "id": "6f66fed8ea168d7d",
   "outputs": [
    {
     "data": {
      "text/plain": [
       "np.float64(36.22154055254967)"
      ]
     },
     "execution_count": 37,
     "metadata": {},
     "output_type": "execute_result"
    }
   ],
   "execution_count": 37
  },
  {
   "metadata": {
    "ExecuteTime": {
     "end_time": "2025-04-21T07:07:49.447399Z",
     "start_time": "2025-04-21T07:07:49.443555Z"
    }
   },
   "cell_type": "code",
   "source": [
    "def sort_by_distance(chromosome: np.ndarray, distance_col_index: int = -1) -> np.ndarray:\n",
    "    \"\"\"\n",
    "    Sort the population based on their distance\n",
    "\n",
    "    :param chromosome: 2D numpy array where each row is a chromosome with distance stored in a specific column\n",
    "    :param distance_col_index: Index of the column containing the distance, because the distance is the last column\n",
    "    \"\"\"\n",
    "    return chromosome[chromosome[:, distance_col_index].argsort()]"
   ],
   "id": "91c846dee1e15efd",
   "outputs": [],
   "execution_count": 74
  },
  {
   "metadata": {
    "ExecuteTime": {
     "end_time": "2025-04-21T07:07:36.953165Z",
     "start_time": "2025-04-21T07:07:36.941639Z"
    }
   },
   "cell_type": "code",
   "source": [
    "def generate_initial_population(pop_size: int, num_cities: int) -> np.ndarray:\n",
    "    \"\"\"\n",
    "    Create the initial population of candidate routes\n",
    "\n",
    "    :param pop_size: Size of the population\n",
    "    :param num_cities: Total number of cities excluding the start/end city\n",
    "    :return: Initial population\n",
    "    \"\"\"\n",
    "    population = np.empty((pop_size, num_cities + 1), dtype=int)\n",
    "\n",
    "    for i in range(pop_size):\n",
    "        path = np.random.permutation(np.arange(1, num_cities))\n",
    "        # Start and end at city 0\n",
    "        route = np.concatenate(([0], path, [0]))\n",
    "\n",
    "        population[i, :] = route\n",
    "\n",
    "    # Add distance to the last column\n",
    "    distances = np.array([calculate_distance(route) for route in population])\n",
    "    population = np.column_stack((population, distances))\n",
    "\n",
    "    return sort_by_distance(population, num_cities + 1)\n",
    "\n",
    "\n",
    "generate_population = generate_initial_population(POP_SIZE, CITIES)\n",
    "generate_population"
   ],
   "id": "c99be5a4a155717e",
   "outputs": [
    {
     "data": {
      "text/plain": [
       "(500, 52)"
      ]
     },
     "execution_count": 73,
     "metadata": {},
     "output_type": "execute_result"
    }
   ],
   "execution_count": 73
  },
  {
   "metadata": {
    "ExecuteTime": {
     "end_time": "2025-04-21T08:47:42.452924Z",
     "start_time": "2025-04-21T08:47:42.448262Z"
    }
   },
   "cell_type": "code",
   "source": [
    "def select_specimens(original_generation: np.ndarray,\n",
    "                     parent_count: int,\n",
    "                     selection_type: Literal[\"roulette\", \"tournament\"] = \"tournament\",\n",
    "                     tournament_size: int = TOURNAMENT_SIZE,\n",
    "                     with_replacement: bool = True) -> np.ndarray:\n",
    "    \"\"\"\n",
    "    Selects specimens from a generation based on a given selection strategy.\n",
    "\n",
    "    :param original_generation: np.ndarray of specimens (last column is the fitness of each specimen).\n",
    "    :param parent_count: Number of parents to select.\n",
    "    :param selection_type: Selection strategy ('tournament', 'roulette', or 'random').\n",
    "    :param tournament_size: Size of tournament (only used for tournament selection).\n",
    "    :param with_replacement: Whether to allow the same specimen to be selected multiple times (only for tournament selection).\n",
    "    :return: np.ndarray of selected parents sorted by fitness.\n",
    "    \"\"\"\n",
    "    generation = original_generation.copy()\n",
    "\n",
    "    match selection_type:\n",
    "        case \"tournament\":\n",
    "            selected_parents = []\n",
    "            available_indexes = np.arange(generation.shape[0])\n",
    "\n",
    "            # Ensure we select exactly parent_count specimens\n",
    "            while len(selected_parents) < parent_count:\n",
    "                tournament_indexes = np.random.choice(available_indexes, size=tournament_size, replace=False)\n",
    "                tournament_specimens = generation[tournament_indexes]\n",
    "                tournament_winner = tournament_specimens[np.argmin(tournament_specimens[:, -1])]\n",
    "                selected_parents.append(tournament_winner)\n",
    "\n",
    "                if not with_replacement:\n",
    "                    winner_index = np.where(generation == tournament_winner)[0][0]\n",
    "                    available_indexes = np.delete(available_indexes, np.where(available_indexes == winner_index)[0])\n",
    "\n",
    "            # Remove duplicates (in case of multiple selections in case of replacement)\n",
    "            selected = np.unique(np.vstack(selected_parents), axis=0)\n",
    "\n",
    "        case \"roulette\":\n",
    "            distances = generation[:, -1]\n",
    "            # Small epsilon to avoid division by zero\n",
    "            probabilities = 1 / (distances + 1e-6)\n",
    "            probabilities /= np.sum(probabilities)\n",
    "\n",
    "            selected_indices = []\n",
    "\n",
    "            # Ensure exactly parent_count selections\n",
    "            while len(selected_indices) < parent_count:\n",
    "                selected_index = np.random.choice(np.arange(generation.shape[0]), p=probabilities)\n",
    "                # Ensure no duplicates\n",
    "                while selected_indices.count(selected_index) >= 1:\n",
    "                    selected_index = np.random.choice(np.arange(generation.shape[0]), p=probabilities)\n",
    "                selected_indices.append(selected_index)\n",
    "\n",
    "            # Extract selected chromosomes from the indices\n",
    "            selected = generation[selected_indices]\n",
    "\n",
    "            selected = np.unique(selected, axis=0)\n",
    "\n",
    "        case _:\n",
    "            raise ValueError(\"Invalid selection type. Choose either tournament or roulette!\")\n",
    "\n",
    "    # Ensure that we return exactly parent_count specimens after sorting by fitness\n",
    "    return sort_by_distance(selected)[:parent_count]\n"
   ],
   "id": "c491975bd81f4520",
   "outputs": [],
   "execution_count": 172
  },
  {
   "metadata": {
    "ExecuteTime": {
     "end_time": "2025-04-21T08:47:42.734075Z",
     "start_time": "2025-04-21T08:47:42.729718Z"
    }
   },
   "cell_type": "code",
   "source": [
    "def mutation(chromosome: np.ndarray,\n",
    "             mutation_probability: float = MUTATION_PROB,\n",
    "             num_cities: int = CITIES,\n",
    "             mutation_method: Literal[\"full\", \"partial\"] = \"full\") -> np.ndarray:\n",
    "    \"\"\"\n",
    "    Mutate a chromosome by swapping two cities with a given probability.\n",
    "\n",
    "    :param num_cities:\n",
    "    :param mutation_method: full mutation means ver1 and ver2 of mutation, while partial mutation means only ver1\n",
    "    :param chromosome: Chromosome to mutate\n",
    "    :param mutation_probability: Probability of mutation\n",
    "    :return: Mutated chromosome\n",
    "    \"\"\"\n",
    "    # If selected random value if larger skip mutation\n",
    "    if np.random.rand() < mutation_probability:\n",
    "        specimen = chromosome.copy()\n",
    "\n",
    "        # Swap two random cities (except the starting/ending city), we don't take the last column into account\n",
    "        first_ind, second_ind = np.random.choice(np.arange(1, num_cities - 1), size=2, replace=False)\n",
    "        first_gene = specimen[first_ind]\n",
    "        second_gene = specimen[second_ind]\n",
    "        specimen[second_ind] = first_gene\n",
    "        specimen[first_ind] = second_gene\n",
    "\n",
    "        if mutation_method == \"full\":\n",
    "            first_ind, second_ind = np.random.choice(np.arange(1, num_cities - 1), size=2, replace=False)\n",
    "            tmp_spec = specimen[first_ind].copy()\n",
    "            if first_ind > second_ind:\n",
    "                specimen[second_ind + 1: first_ind + 1] = specimen[second_ind: first_ind]\n",
    "            else:\n",
    "                specimen[first_ind: second_ind] = specimen[first_ind + 1: second_ind + 1]\n",
    "            specimen[second_ind] = tmp_spec\n",
    "\n",
    "        return specimen\n",
    "\n",
    "    return chromosome"
   ],
   "id": "bb1a491cd3cf928",
   "outputs": [],
   "execution_count": 173
  },
  {
   "metadata": {
    "ExecuteTime": {
     "end_time": "2025-04-21T08:47:42.931527Z",
     "start_time": "2025-04-21T08:47:42.927430Z"
    }
   },
   "cell_type": "code",
   "source": [
    "def crossover(\n",
    "    parent1: np.ndarray,\n",
    "    parent2: np.ndarray,\n",
    "    crossover_probability: float = CROSS_PROB,\n",
    "    crossover_method: Literal[\"order\", \"simple\"] = \"order\",\n",
    "    num_cities: int = CITIES,\n",
    ") -> np.ndarray:\n",
    "    \"\"\"\n",
    "    Perform crossover between two parents to create a child.\n",
    "\n",
    "    :param parent1: First parent chromosome\n",
    "    :param parent2: Second parent chromosome\n",
    "    :param crossover_probability: Probability of crossover\n",
    "    :param crossover_method: Crossover method\n",
    "    :param num_cities:\n",
    "    :return: Child chromosome\n",
    "    \"\"\"\n",
    "    if np.random.rand() < crossover_probability:\n",
    "        # Randomly select two crossover points\n",
    "        start, end = sorted(np.random.choice(np.arange(1, num_cities - 1), size=2, replace=False))\n",
    "        child = np.full_like(parent1, -1)\n",
    "\n",
    "        match crossover_method:\n",
    "            case \"order\":\n",
    "                # Slice from parent1\n",
    "                child[start:end + 1] = parent1[start:end + 1]\n",
    "                fill_index = (end + 1) % num_cities\n",
    "                for gene in parent2:\n",
    "                    if gene not in child:\n",
    "                        child[fill_index] = gene\n",
    "                        fill_index = (fill_index + 1) % num_cities\n",
    "\n",
    "            case \"simple\":\n",
    "                # Slice from parent2 and shuffle it\n",
    "                slice_to_shuffle = parent2[start:end + 1].copy()\n",
    "                np.random.shuffle(slice_to_shuffle)\n",
    "\n",
    "                # Fill child\n",
    "                child[start:end + 1] = slice_to_shuffle\n",
    "\n",
    "                # Fill rest from parent1\n",
    "                for i in range(num_cities):\n",
    "                    if i < start or i > end:\n",
    "                        child[i] = parent1[i]\n",
    "\n",
    "            case _:\n",
    "                raise ValueError(\"Invalid crossover method. Choose either order or simple!\")\n",
    "\n",
    "    return parent1.copy()"
   ],
   "id": "7b1a6ffa56c60fb2",
   "outputs": [],
   "execution_count": 174
  },
  {
   "metadata": {
    "ExecuteTime": {
     "end_time": "2025-04-21T08:47:43.113654Z",
     "start_time": "2025-04-21T08:47:43.109310Z"
    }
   },
   "cell_type": "code",
   "source": [
    "def generate_children(\n",
    "    parents: np.ndarray,\n",
    "    child_count: int = POP_SIZE,\n",
    "    crossover_probability: float = CROSS_PROB,\n",
    "    mutation_probability: float = MUTATION_PROB,\n",
    "    crossover_method: Literal[\"order\", \"simple\"] = \"order\",\n",
    ") -> np.ndarray:\n",
    "    \"\"\"\n",
    "    Generate children from parents using crossover and mutation.\n",
    "\n",
    "    :param parents: Parent chromosomes\n",
    "    :param child_count: Number of children to generate\n",
    "    :param crossover_probability: Probability of crossover\n",
    "    :param mutation_probability: Probability of mutation\n",
    "    :param crossover_method: Crossover method\n",
    "    :return: Generated children\n",
    "    \"\"\"\n",
    "    children = []\n",
    "\n",
    "    while len(children) < child_count:\n",
    "        ind1, ind2 = np.random.choice(np.arange(parents.shape[0]), size=2, replace=False)\n",
    "        parent1, parent2 = parents[ind1], parents[ind2]\n",
    "\n",
    "        child = crossover(parent1, parent2, crossover_probability=crossover_probability, crossover_method=crossover_method)\n",
    "        child = mutation(child, mutation_probability=mutation_probability)\n",
    "\n",
    "        children.append(child)\n",
    "\n",
    "    return sort_by_distance(np.array(children))"
   ],
   "id": "451efceaee1e1270",
   "outputs": [],
   "execution_count": 175
  },
  {
   "metadata": {
    "ExecuteTime": {
     "end_time": "2025-04-21T08:47:43.552301Z",
     "start_time": "2025-04-21T08:47:43.548384Z"
    }
   },
   "cell_type": "code",
   "source": [
    "def succession(\n",
    "        parent_generation: np.ndarray,\n",
    "        children_generation: np.ndarray,\n",
    "        population_size: int = POP_SIZE,\n",
    "        successsion_method: Literal[\"full\", \"partial\", \"elitist\"] = SUCCESSION_METHOD,\n",
    "        selection_method: Literal[\"roulette\", \"tournament\"] = SELECTION_METHOD,\n",
    "        elitist_count: int = 5\n",
    ") -> np.ndarray:\n",
    "    \"\"\"\n",
    "    Perform succession to create the next generation by applying the selected inheritance method.\n",
    "\n",
    "    :param parent_generation: The parent generation chromosomes\n",
    "    :param children_generation: The child generation chromosomes\n",
    "    :param population_size: The desired population size of the next generation\n",
    "    :param successsion_method: The succession method to apply\n",
    "    :param selection_method: The selection method to apply\n",
    "    :param elitist_count: How many best specimens to keep in each new generation\n",
    "    :return: The next generation chromosomes\n",
    "    \"\"\"\n",
    "\n",
    "    all_specs = np.vstack([parent_generation, children_generation])\n",
    "\n",
    "    if successsion_method == \"full\":\n",
    "        # Inherit only the children\n",
    "        return children_generation\n",
    "\n",
    "    elif successsion_method == \"partial\":\n",
    "        best_elite = sort_by_distance(all_specs)[:elitist_count]\n",
    "        remainder_count = population_size - elitist_count\n",
    "        if selection_method == \"roulette\":\n",
    "            remainder = select_specimens(all_specs, selection_type='roulette', parent_count=remainder_count, with_replacement=True)\n",
    "        else:\n",
    "            remainder = select_specimens(all_specs, selection_type='tournament', parent_count=remainder_count, with_replacement=True)\n",
    "\n",
    "        next_generation = np.vstack([best_elite, remainder])\n",
    "        return sort_by_distance(next_generation)[:population_size]\n",
    "\n",
    "    elif successsion_method == \"elitist\":\n",
    "        # Sort and slice to exactly POP_SIZE\n",
    "        return sort_by_distance(all_specs)[:population_size]\n",
    "\n",
    "    else:\n",
    "        raise ValueError(\"Invalid successsion_method. Choose from 'full', 'partial', or 'elitist'.\")"
   ],
   "id": "7f40355ff65c9f69",
   "outputs": [],
   "execution_count": 176
  },
  {
   "metadata": {
    "ExecuteTime": {
     "end_time": "2025-04-21T09:11:54.206130Z",
     "start_time": "2025-04-21T09:11:48.909316Z"
    }
   },
   "cell_type": "code",
   "source": [
    "def main_loop(\n",
    "        generations: int,\n",
    "        generated_cities: Tuple[np.ndarray, np.ndarray],\n",
    "        population_size: int = POP_SIZE,\n",
    "        mutation_probability: float = MUTATION_PROB,\n",
    "        crossover_probability: float = CROSS_PROB,\n",
    "        selection_method: Literal[\"roulette\", \"tournament\"] = SELECTION_METHOD,\n",
    "        successsion_method: Literal[\"full\", \"partial\", \"elitist\"] = SUCCESSION_METHOD,\n",
    ") -> np.ndarray:\n",
    "    \"\"\"\n",
    "    Main loop of the genetic algorithm.\n",
    "\n",
    "    :param generations: Number of generations to run\n",
    "    :param generated_cities: Generated cities\n",
    "    :param population_size: Size of the population\n",
    "    :param mutation_probability: Probability of mutation\n",
    "    :param crossover_probability: Probability of crossover\n",
    "    :param selection_method: Selection method ('roulette' or 'tournament')\n",
    "    :param successsion_method: Succession method ('full', 'partial', or 'elitist')\n",
    "    :return: Best chromosome from the last generation\n",
    "    \"\"\"\n",
    "    population = generate_initial_population(population_size, CITIES)\n",
    "\n",
    "    all_populations = [population]\n",
    "\n",
    "    for generation in range(generations):\n",
    "        # Select parents\n",
    "        if selection_method == \"roulette\":\n",
    "            selected_parents = select_specimens(population, parent_count=population_size, selection_type='roulette', with_replacement=True)\n",
    "        else:\n",
    "            selected_parents = select_specimens(population, parent_count=population_size, selection_type='tournament', with_replacement=True)\n",
    "\n",
    "        children = generate_children(selected_parents, child_count=population_size, crossover_probability=crossover_probability, mutation_probability=mutation_probability)\n",
    "\n",
    "        population = succession(population, children, population_size=population_size, successsion_method=successsion_method, selection_method=selection_method)\n",
    "        population = sort_by_distance(population)\n",
    "        all_populations.append(population)\n",
    "        best_distance = population[0, -1]\n",
    "\n",
    "\n",
    "        print(f\"Generation {generation+1}, Smallest Distance: {best_distance}\")\n",
    "\n",
    "    generate_gif(generated_cities, all_populations)\n",
    "    return population[0]\n",
    "\n",
    "# Run the main loop for 50 generations\n",
    "cities = setup_cities(POP_SIZE, CITIES_X_LIMIT, CITIES_Y_LIMIT, shape=\"ring\")\n",
    "main_loop(50, cities, POP_SIZE, mutation_probability=MUTATION_PROB, crossover_probability=CROSS_PROB, selection_method=SELECTION_METHOD, successsion_method=SUCCESSION_METHOD)\n"
   ],
   "id": "9d83e236e9a88adf",
   "outputs": [
    {
     "name": "stdout",
     "output_type": "stream",
     "text": [
      "Generation 1, Smallest Distance: 8596.316542072875\n",
      "Generation 2, Smallest Distance: 8596.316542072875\n",
      "Generation 3, Smallest Distance: 8596.316542072875\n",
      "Generation 4, Smallest Distance: 8596.316542072875\n",
      "Generation 5, Smallest Distance: 8596.316542072875\n",
      "Generation 6, Smallest Distance: 8596.316542072875\n",
      "Generation 7, Smallest Distance: 8596.316542072875\n",
      "Generation 8, Smallest Distance: 8596.316542072875\n",
      "Generation 9, Smallest Distance: 8596.316542072875\n",
      "Generation 10, Smallest Distance: 8596.316542072875\n",
      "Generation 11, Smallest Distance: 8596.316542072875\n",
      "Generation 12, Smallest Distance: 8596.316542072875\n",
      "Generation 13, Smallest Distance: 8596.316542072875\n",
      "Generation 14, Smallest Distance: 8596.316542072875\n",
      "Generation 15, Smallest Distance: 8596.316542072875\n",
      "Generation 16, Smallest Distance: 8596.316542072875\n",
      "Generation 17, Smallest Distance: 8596.316542072875\n",
      "Generation 18, Smallest Distance: 8596.316542072875\n",
      "Generation 19, Smallest Distance: 8596.316542072875\n",
      "Generation 20, Smallest Distance: 8596.316542072875\n",
      "Generation 21, Smallest Distance: 8596.316542072875\n",
      "Generation 22, Smallest Distance: 8596.316542072875\n",
      "Generation 23, Smallest Distance: 8596.316542072875\n",
      "Generation 24, Smallest Distance: 8596.316542072875\n",
      "Generation 25, Smallest Distance: 8596.316542072875\n",
      "Generation 26, Smallest Distance: 8596.316542072875\n",
      "Generation 27, Smallest Distance: 8596.316542072875\n",
      "Generation 28, Smallest Distance: 8596.316542072875\n",
      "Generation 29, Smallest Distance: 8596.316542072875\n",
      "Generation 30, Smallest Distance: 8596.316542072875\n",
      "Generation 31, Smallest Distance: 8596.316542072875\n",
      "Generation 32, Smallest Distance: 8596.316542072875\n",
      "Generation 33, Smallest Distance: 8596.316542072875\n",
      "Generation 34, Smallest Distance: 8596.316542072875\n",
      "Generation 35, Smallest Distance: 8596.316542072875\n",
      "Generation 36, Smallest Distance: 8596.316542072875\n",
      "Generation 37, Smallest Distance: 8596.316542072875\n",
      "Generation 38, Smallest Distance: 8596.316542072875\n",
      "Generation 39, Smallest Distance: 8596.316542072875\n",
      "Generation 40, Smallest Distance: 8596.316542072875\n",
      "Generation 41, Smallest Distance: 8596.316542072875\n",
      "Generation 42, Smallest Distance: 8596.316542072875\n",
      "Generation 43, Smallest Distance: 8596.316542072875\n",
      "Generation 44, Smallest Distance: 8596.316542072875\n",
      "Generation 45, Smallest Distance: 8596.316542072875\n",
      "Generation 46, Smallest Distance: 8596.316542072875\n",
      "Generation 47, Smallest Distance: 8596.316542072875\n",
      "Generation 48, Smallest Distance: 8596.316542072875\n",
      "Generation 49, Smallest Distance: 8596.316542072875\n",
      "Generation 50, Smallest Distance: 8596.316542072875\n"
     ]
    },
    {
     "data": {
      "text/plain": [
       "array([0.00000000e+00, 4.30000000e+01, 3.70000000e+01, 2.10000000e+01,\n",
       "       1.50000000e+01, 4.00000000e+00, 1.90000000e+01, 2.00000000e+00,\n",
       "       5.00000000e+00, 4.00000000e+01, 4.80000000e+01, 4.10000000e+01,\n",
       "       4.60000000e+01, 2.70000000e+01, 3.50000000e+01, 1.20000000e+01,\n",
       "       1.40000000e+01, 2.20000000e+01, 1.30000000e+01, 3.00000000e+01,\n",
       "       3.90000000e+01, 1.80000000e+01, 1.10000000e+01, 1.00000000e+01,\n",
       "       2.30000000e+01, 1.60000000e+01, 2.60000000e+01, 9.00000000e+00,\n",
       "       4.50000000e+01, 2.50000000e+01, 3.80000000e+01, 4.40000000e+01,\n",
       "       1.70000000e+01, 2.80000000e+01, 1.00000000e+00, 3.40000000e+01,\n",
       "       2.90000000e+01, 2.00000000e+01, 2.40000000e+01, 3.60000000e+01,\n",
       "       3.10000000e+01, 3.30000000e+01, 8.00000000e+00, 7.00000000e+00,\n",
       "       4.90000000e+01, 6.00000000e+00, 4.70000000e+01, 4.20000000e+01,\n",
       "       3.20000000e+01, 3.00000000e+00, 0.00000000e+00, 8.59631654e+03])"
      ]
     },
     "execution_count": 226,
     "metadata": {},
     "output_type": "execute_result"
    }
   ],
   "execution_count": 226
  },
  {
   "metadata": {},
   "cell_type": "code",
   "outputs": [],
   "execution_count": null,
   "source": "",
   "id": "45dd354425a9010c"
  }
 ],
 "metadata": {
  "kernelspec": {
   "display_name": "Python 3",
   "language": "python",
   "name": "python3"
  },
  "language_info": {
   "codemirror_mode": {
    "name": "ipython",
    "version": 2
   },
   "file_extension": ".py",
   "mimetype": "text/x-python",
   "name": "python",
   "nbconvert_exporter": "python",
   "pygments_lexer": "ipython2",
   "version": "2.7.6"
  }
 },
 "nbformat": 4,
 "nbformat_minor": 5
}
