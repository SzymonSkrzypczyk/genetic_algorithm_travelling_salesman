{
 "cells": [
  {
   "metadata": {},
   "cell_type": "markdown",
   "source": [
    "# Genetics Algorithm for Travelling Salesman Problem\n",
    "## Implemented in Python\n",
    "### List of content:\n",
    "- [Constants](#constants)\n",
    "- [Setup cities](#setup-cities)\n",
    "- [Show cities](#show-cities)\n",
    "- [Show connections between cities](#show-connections)\n",
    "- [Generate GIF](#generation-of-gif)\n",
    "- [Compute distance matrix](#compute-distance-matrix)\n",
    "- [Calculate distance of a route](#calculate-distance-of-a-route)\n",
    "- [Sort by distance](#sort-by-distance)\n",
    "- [Generate initial population](#generate-initial-population)\n",
    "- [Select specimens](#select-specimens)\n",
    "- [Mutation](#mutation)\n",
    "- [Crossover](#crossover)\n",
    "- [Generate children](#generate-children)\n",
    "- [Succession](#succession)\n",
    "- [Main loop](#main-loop)\n",
    "- [Run the main loop](#run-the-main-loop)\n",
    "- [Plots](#plots)"
   ],
   "id": "1096b7c6b8864ccc"
  },
  {
   "cell_type": "code",
   "id": "initial_id",
   "metadata": {
    "collapsed": true,
    "ExecuteTime": {
     "end_time": "2025-04-21T10:20:52.954169Z",
     "start_time": "2025-04-21T10:20:52.945025Z"
    }
   },
   "source": [
    "from tempfile import TemporaryDirectory\n",
    "from typing import Literal, Tuple, List\n",
    "import numpy as np\n",
    "import matplotlib.pyplot as plt\n",
    "from matplotlib.animation import FuncAnimation\n",
    "import matplotlib.image as mpimg\n",
    "from PIL import Image"
   ],
   "outputs": [],
   "execution_count": 398
  },
  {
   "metadata": {},
   "cell_type": "markdown",
   "source": "## Constants",
   "id": "c052c91f21835913"
  },
  {
   "metadata": {
    "ExecuteTime": {
     "end_time": "2025-04-21T10:10:45.638277Z",
     "start_time": "2025-04-21T10:10:45.635790Z"
    }
   },
   "cell_type": "code",
   "source": [
    "# CONSTANTS AND PARAMETERS\n",
    "CITIES = 50\n",
    "POP_SIZE = 50\n",
    "GENERATIONS = 100\n",
    "CROSS_PROB = 0.9\n",
    "MUTATION_PROB = 0.8\n",
    "TOURNAMENT_SIZE = 6\n",
    "SELECTION_METHOD: Literal[\"tournament\", \"roulette\"] = \"tournament\"\n",
    "SUCCESSION_METHOD: Literal[\"full\", \"partial\", \"elitist\"] = \"elitist\"\n",
    "CITIES_X_LIMIT = 300\n",
    "CITIES_Y_LIMIT = 300"
   ],
   "id": "5b36ce83d7985e3",
   "outputs": [],
   "execution_count": 379
  },
  {
   "metadata": {},
   "cell_type": "markdown",
   "source": "## Setup cities",
   "id": "808f66d35fac23c1"
  },
  {
   "metadata": {
    "ExecuteTime": {
     "end_time": "2025-04-21T10:08:27.251745Z",
     "start_time": "2025-04-21T10:08:27.247769Z"
    }
   },
   "cell_type": "code",
   "source": [
    "def setup_cities(n: int, limit_x: int, limit_y: int, shape: Literal[\"ring\", \"random\"] = \"ring\") -> Tuple[np.ndarray, np.ndarray]:\n",
    "    \"\"\"\n",
    "    Generate random coordinates for cities.\n",
    "\n",
    "    :param shape: Shape of the city distribution ('random' or 'ring')\n",
    "    :param n: Number of cities\n",
    "    :param limit_x: X-axis limit\n",
    "    :param limit_y: Y-axis limit\n",
    "    :return: Array of city coordinates\n",
    "    \"\"\"\n",
    "    match shape:\n",
    "        case 'random':\n",
    "            x = np.random.randint(0, limit_x, size=n)\n",
    "            y = np.random.randint(0, limit_y, size=n)\n",
    "        case 'ring':\n",
    "            angles = np.linspace(0, 2 * np.pi, n, endpoint=False)\n",
    "            center_x, center_y = limit_x // 2, limit_y // 2\n",
    "            radius_x, radius_y = limit_x // 2, limit_y // 2\n",
    "            x = (center_x + radius_x * np.cos(angles)).astype(int)\n",
    "            y = (center_y + radius_y * np.sin(angles)).astype(int)\n",
    "        case _:\n",
    "            raise ValueError(\"Shape must be either random or ring!\")\n",
    "\n",
    "    return x,y\n",
    "\n",
    "\n",
    "generated_cities = setup_cities(CITIES, CITIES_X_LIMIT, CITIES_Y_LIMIT)"
   ],
   "id": "6520a780f1533f58",
   "outputs": [],
   "execution_count": 364
  },
  {
   "metadata": {},
   "cell_type": "markdown",
   "source": "## Show cities",
   "id": "c205c8faf1ede31b"
  },
  {
   "metadata": {
    "ExecuteTime": {
     "end_time": "2025-04-21T10:08:27.328167Z",
     "start_time": "2025-04-21T10:08:27.325177Z"
    }
   },
   "cell_type": "code",
   "source": [
    "def show_cities(cities: Tuple[np.ndarray, np.ndarray]) -> None:\n",
    "    \"\"\"\n",
    "    Visualize the cities on a scatter plot\n",
    "\n",
    "    :param cities: Tuple of city coordinates\n",
    "    \"\"\"\n",
    "    plt.figure(figsize=(10, 10))\n",
    "    plt.scatter(cities[0], cities[1], marker='o')\n",
    "    plt.xlim(-10, CITIES_X_LIMIT + 10)\n",
    "    plt.ylim(-10, CITIES_Y_LIMIT + 10)\n",
    "    plt.title(\"Cities Distribution\")\n",
    "    plt.xlabel(\"X Coordinate\")\n",
    "    plt.ylabel(\"Y Coordinate\")\n",
    "    plt.grid()\n",
    "    plt.show()"
   ],
   "id": "1728abcedc3f83b0",
   "outputs": [],
   "execution_count": 365
  },
  {
   "metadata": {},
   "cell_type": "markdown",
   "source": "## Show connections",
   "id": "c84b676a43bfb170"
  },
  {
   "metadata": {
    "ExecuteTime": {
     "end_time": "2025-04-21T10:08:27.384283Z",
     "start_time": "2025-04-21T10:08:27.379409Z"
    }
   },
   "cell_type": "code",
   "source": [
    "def show_connections(cities: Tuple[np.ndarray, np.ndarray], population: np.ndarray, ind: int, tmpdir: TemporaryDirectory) -> None:\n",
    "    \"\"\"\n",
    "    Show how the cities are connected in the best route.\n",
    "\n",
    "    :param cities: Tuple of x and y coordinates for cities.\n",
    "    :param population: The population containing chromosomes (routes) of city indices.\n",
    "    :param ind: Index\n",
    "    :param tmpdir: Temporary directory to save the frames.\n",
    "    :return: The matplotlib figure object.\n",
    "    \"\"\"\n",
    "    plt.figure(figsize=(10, 10))\n",
    "    plt.scatter(cities[0], cities[1], marker='o')\n",
    "    plt.xlim(-10, CITIES_X_LIMIT + 10)\n",
    "    plt.ylim(-10, CITIES_Y_LIMIT + 10)\n",
    "    plt.title(f\"Cities Distribution {ind + 1}\")\n",
    "    plt.xlabel(\"X Coordinate\")\n",
    "    plt.ylabel(\"Y Coordinate\")\n",
    "    plt.grid()\n",
    "\n",
    "    best_route = population[-1]\n",
    "\n",
    "    # Ensure that best_route contains only valid indices\n",
    "    best_route = np.clip(best_route, 0, len(cities[0]) - 1)  # Ensures indices are within bounds\n",
    "\n",
    "    # Draw lines between cities in the best route\n",
    "    for i in range(len(best_route) - 1):\n",
    "        # Ensure indices are integers when accessing the cities array\n",
    "        index1 = int(best_route[i])  # City index from the route\n",
    "        index2 = int(best_route[i + 1])  # City index from the route\n",
    "\n",
    "        # Plot line between cities\n",
    "        x_values = [cities[0][index1], cities[0][index2]]\n",
    "        y_values = [cities[1][index1], cities[1][index2]]\n",
    "        plt.plot(x_values, y_values, color='blue')\n",
    "\n",
    "    plt.savefig(f\"{tmpdir}/frame_{ind}.png\")\n",
    "    plt.close()"
   ],
   "id": "7947300f8197ee1f",
   "outputs": [],
   "execution_count": 366
  },
  {
   "metadata": {},
   "cell_type": "markdown",
   "source": "## Generation of GIF",
   "id": "1abb61ce83f176ed"
  },
  {
   "metadata": {
    "ExecuteTime": {
     "end_time": "2025-04-21T10:08:27.445398Z",
     "start_time": "2025-04-21T10:08:27.441398Z"
    }
   },
   "cell_type": "code",
   "source": [
    "def generate_gif(cities: Tuple[np.ndarray, np.ndarray], populations: List[np.ndarray]) -> None:\n",
    "    \"\"\"\n",
    "    Generate gif from figures saved in a temporary directory\n",
    "\n",
    "    :param cities:\n",
    "    :param populations:\n",
    "    :return:\n",
    "    \"\"\"\n",
    "    with TemporaryDirectory() as tmpdir:\n",
    "        for ind, pop in enumerate(populations):\n",
    "            show_connections(cities, pop, ind, tmpdir)\n",
    "\n",
    "        frames = [Image.open(f\"{tmpdir}/frame_{i}.png\") for i in range(len(populations))]\n",
    "        frames[0].save(\"cities.gif\", save_all=True, append_images=frames[1:], duration=500, loop=0)\n"
   ],
   "id": "78bec96eb704db78",
   "outputs": [],
   "execution_count": 367
  },
  {
   "metadata": {
    "ExecuteTime": {
     "end_time": "2025-04-21T10:08:27.571092Z",
     "start_time": "2025-04-21T10:08:27.497748Z"
    }
   },
   "cell_type": "code",
   "source": "show_cities(generated_cities)",
   "id": "3ed4c7b595b09faf",
   "outputs": [
    {
     "data": {
      "text/plain": [
       "<Figure size 1000x1000 with 1 Axes>"
      ],
      "image/png": "[encoded data removed]"
     },
     "metadata": {},
     "output_type": "display_data"
    }
   ],
   "execution_count": 368
  },
  {
   "metadata": {},
   "cell_type": "markdown",
   "source": "## Compute distance matrix",
   "id": "bd45de492eed2f04"
  },
  {
   "metadata": {
    "ExecuteTime": {
     "end_time": "2025-04-21T10:08:27.581508Z",
     "start_time": "2025-04-21T10:08:27.577495Z"
    }
   },
   "cell_type": "code",
   "source": [
    "def compute_distance_matrix(cities: Tuple[np.ndarray, np.ndarray]) -> np.ndarray:\n",
    "    \"\"\"\n",
    "    Compute the Euclidean distance matrix between all pairs of cities to be used later in the calculations\n",
    "\n",
    "    :param cities: Tuple of city coordinates\n",
    "    :return: 2D array (matrix) of distances\n",
    "    \"\"\"\n",
    "    x, y = cities\n",
    "    coords = np.stack((x, y), axis=1)\n",
    "    diff = coords[:, np.newaxis, :] - coords[np.newaxis, :, :]\n",
    "    dist_matrix = np.sqrt(np.sum(diff**2, axis=-1))\n",
    "    return dist_matrix\n",
    "\n",
    "\n",
    "distances = compute_distance_matrix(generated_cities)"
   ],
   "id": "da82238d0d396ad4",
   "outputs": [],
   "execution_count": 369
  },
  {
   "metadata": {},
   "cell_type": "markdown",
   "source": "## Calculate distance of a route",
   "id": "53a33db2e0c8bab3"
  },
  {
   "metadata": {
    "ExecuteTime": {
     "end_time": "2025-04-21T10:08:27.642333Z",
     "start_time": "2025-04-21T10:08:27.637758Z"
    }
   },
   "cell_type": "code",
   "source": [
    "def calculate_distance(chromosome: np.ndarray, dist_matrix: np.ndarray = distances) -> float:\n",
    "    \"\"\"\n",
    "    Calculate the total distance of a given chromosome (route) based on the distance matrix\n",
    "\n",
    "    :param chromosome: Chromosome representing the route\n",
    "    :param dist_matrix: Distance matrix between cities\n",
    "    :return: Total distance of the route\n",
    "    \"\"\"\n",
    "    distance = sum(\n",
    "        dist_matrix[chromosome[i], chromosome[i - 1]] for i in range(len(chromosome))\n",
    "    )\n",
    "\n",
    "    return distance\n",
    "\n",
    "\n",
    "test_chromosome = np.random.permutation(len(generated_cities))\n",
    "calculate_distance(test_chromosome, distances)"
   ],
   "id": "6f66fed8ea168d7d",
   "outputs": [
    {
     "data": {
      "text/plain": [
       "np.float64(36.22154055254967)"
      ]
     },
     "execution_count": 370,
     "metadata": {},
     "output_type": "execute_result"
    }
   ],
   "execution_count": 370
  },
  {
   "metadata": {},
   "cell_type": "markdown",
   "source": "## Sort by distance",
   "id": "42fd22359761508f"
  },
  {
   "metadata": {
    "ExecuteTime": {
     "end_time": "2025-04-21T10:08:27.702260Z",
     "start_time": "2025-04-21T10:08:27.699256Z"
    }
   },
   "cell_type": "code",
   "source": [
    "def sort_by_distance(chromosome: np.ndarray, distance_col_index: int = -1) -> np.ndarray:\n",
    "    \"\"\"\n",
    "    Sort the population based on their distance\n",
    "\n",
    "    :param chromosome: 2D numpy array where each row is a chromosome with distance stored in a specific column\n",
    "    :param distance_col_index: Index of the column containing the distance, because the distance is the last column\n",
    "    \"\"\"\n",
    "    return chromosome[chromosome[:, distance_col_index].argsort()]"
   ],
   "id": "91c846dee1e15efd",
   "outputs": [],
   "execution_count": 371
  },
  {
   "metadata": {},
   "cell_type": "markdown",
   "source": "## Generate initial population",
   "id": "e5d926320df8f214"
  },
  {
   "metadata": {
    "ExecuteTime": {
     "end_time": "2025-04-21T10:08:27.752336Z",
     "start_time": "2025-04-21T10:08:27.746796Z"
    }
   },
   "cell_type": "code",
   "source": [
    "def generate_initial_population(pop_size: int, num_cities: int) -> np.ndarray:\n",
    "    \"\"\"\n",
    "    Create the initial population of candidate routes\n",
    "\n",
    "    :param pop_size: Size of the population\n",
    "    :param num_cities: Total number of cities excluding the start/end city\n",
    "    :return: Initial population\n",
    "    \"\"\"\n",
    "    population = np.empty((pop_size, num_cities + 1), dtype=int)\n",
    "\n",
    "    for i in range(pop_size):\n",
    "        path = np.random.permutation(np.arange(1, num_cities))\n",
    "        # Start and end at city 0\n",
    "        route = np.concatenate(([0], path, [0]))\n",
    "\n",
    "        population[i, :] = route\n",
    "\n",
    "    distances = np.array([calculate_distance(route) for route in population])\n",
    "    population = np.column_stack((population, distances))\n",
    "    return sort_by_distance(population, num_cities + 1)\n",
    "\n",
    "\n",
    "generate_population = generate_initial_population(POP_SIZE, CITIES)\n",
    "generate_population"
   ],
   "id": "c99be5a4a155717e",
   "outputs": [
    {
     "data": {
      "text/plain": [
       "array([[0.00000000e+00, 4.20000000e+01, 2.80000000e+01, ...,\n",
       "        6.00000000e+00, 0.00000000e+00, 8.80362276e+03],\n",
       "       [0.00000000e+00, 4.80000000e+01, 6.00000000e+00, ...,\n",
       "        3.20000000e+01, 0.00000000e+00, 8.85789177e+03],\n",
       "       [0.00000000e+00, 2.20000000e+01, 3.50000000e+01, ...,\n",
       "        2.90000000e+01, 0.00000000e+00, 8.86507440e+03],\n",
       "       ...,\n",
       "       [0.00000000e+00, 3.00000000e+01, 7.00000000e+00, ...,\n",
       "        4.60000000e+01, 0.00000000e+00, 1.06518966e+04],\n",
       "       [0.00000000e+00, 1.50000000e+01, 5.00000000e+00, ...,\n",
       "        3.90000000e+01, 0.00000000e+00, 1.08362683e+04],\n",
       "       [0.00000000e+00, 2.30000000e+01, 4.00000000e+00, ...,\n",
       "        3.40000000e+01, 0.00000000e+00, 1.09303699e+04]], shape=(50, 52))"
      ]
     },
     "execution_count": 372,
     "metadata": {},
     "output_type": "execute_result"
    }
   ],
   "execution_count": 372
  },
  {
   "metadata": {},
   "cell_type": "markdown",
   "source": "## Select specimens",
   "id": "4ffb81d3fce7ae39"
  },
  {
   "metadata": {
    "ExecuteTime": {
     "end_time": "2025-04-21T10:08:27.845180Z",
     "start_time": "2025-04-21T10:08:27.839104Z"
    }
   },
   "cell_type": "code",
   "source": [
    "def select_specimens(original_generation: np.ndarray,\n",
    "                     parent_count: int,\n",
    "                     selection_type: Literal[\"roulette\", \"tournament\"] = \"tournament\",\n",
    "                     tournament_size: int = TOURNAMENT_SIZE,\n",
    "                     with_replacement: bool = True) -> np.ndarray:\n",
    "    \"\"\"\n",
    "    Selects specimens from a generation based on a given selection strategy\n",
    "\n",
    "    :param original_generation: np.ndarray of specimens\n",
    "    :param parent_count: Number of parents to select.\n",
    "    :param selection_type: Selection strategy\n",
    "    :param tournament_size: Size of tournament\n",
    "    :param with_replacement: Whether to allow the same specimen to be selected multiple times\n",
    "    :return: np.ndarray of selected parents sorted by fitness\n",
    "    \"\"\"\n",
    "    generation = original_generation.copy()\n",
    "\n",
    "    match selection_type:\n",
    "        case \"tournament\":\n",
    "            selected_parents = []\n",
    "            available_indexes = np.arange(generation.shape[0])\n",
    "\n",
    "            # Ensure we select exactly parent_count specimens\n",
    "            while len(selected_parents) < parent_count:\n",
    "                tournament_indexes = np.random.choice(available_indexes, size=tournament_size, replace=False)\n",
    "                tournament_specimens = generation[tournament_indexes]\n",
    "                tournament_winner = tournament_specimens[np.argmin(tournament_specimens[:, -1])]\n",
    "                selected_parents.append(tournament_winner)\n",
    "\n",
    "                if not with_replacement:\n",
    "                    winner_index = np.where(generation == tournament_winner)[0][0]\n",
    "                    available_indexes = np.delete(available_indexes, np.where(available_indexes == winner_index)[0])\n",
    "\n",
    "            selected = np.unique(np.vstack(selected_parents), axis=0)\n",
    "\n",
    "        case \"roulette\":\n",
    "            distances = generation[:, -1]\n",
    "            # Small epsilon to avoid division by zero\n",
    "            probabilities = 1 / (distances + 1e-6)\n",
    "            probabilities /= np.sum(probabilities)\n",
    "\n",
    "            selected_indices = []\n",
    "\n",
    "            while len(selected_indices) < parent_count:\n",
    "                selected_index = np.random.choice(np.arange(generation.shape[0]), p=probabilities)\n",
    "                # Remember, no duplicates ;)\n",
    "                while selected_indices.count(selected_index) >= 1:\n",
    "                    selected_index = np.random.choice(np.arange(generation.shape[0]), p=probabilities)\n",
    "                selected_indices.append(selected_index)\n",
    "\n",
    "            selected = generation[selected_indices]\n",
    "            selected = np.unique(selected, axis=0)\n",
    "\n",
    "        case _:\n",
    "            raise ValueError(\"Invalid selection type. Choose either tournament or roulette!\")\n",
    "\n",
    "    # Ensure that we return exactly parent_count specimens after sorting by fitness\n",
    "    return sort_by_distance(selected)[:parent_count]\n"
   ],
   "id": "c491975bd81f4520",
   "outputs": [],
   "execution_count": 373
  },
  {
   "metadata": {},
   "cell_type": "markdown",
   "source": "## Mutation",
   "id": "bd9ec6c80fb467ca"
  },
  {
   "metadata": {
    "ExecuteTime": {
     "end_time": "2025-04-21T10:08:27.959759Z",
     "start_time": "2025-04-21T10:08:27.955388Z"
    }
   },
   "cell_type": "code",
   "source": [
    "def mutation(chromosome: np.ndarray,\n",
    "             mutation_probability: float = MUTATION_PROB,\n",
    "             num_cities: int = CITIES,\n",
    "             mutation_method: Literal[\"full\", \"partial\"] = \"full\") -> np.ndarray:\n",
    "    \"\"\"\n",
    "    Mutate a chromosome by swapping two cities with a given probability\n",
    "\n",
    "    :param num_cities:\n",
    "    :param mutation_method: full mutation means ver1 and ver2 of mutation, while partial mutation means only ver1\n",
    "    :param chromosome: Chromosome to mutate\n",
    "    :param mutation_probability: Probability of mutation\n",
    "    :return: Mutated chromosome\n",
    "    \"\"\"\n",
    "    # If selected random value if larger skip mutation\n",
    "    if np.random.rand() < mutation_probability:\n",
    "        specimen = chromosome.copy()\n",
    "\n",
    "        # Swap two random cities (except the starting/ending city), we don't take the last column into account\n",
    "        first_ind, second_ind = np.random.choice(np.arange(1, num_cities - 1), size=2, replace=False)\n",
    "        first_gene = specimen[first_ind]\n",
    "        second_gene = specimen[second_ind]\n",
    "        specimen[second_ind] = first_gene\n",
    "        specimen[first_ind] = second_gene\n",
    "\n",
    "        if mutation_method == \"full\":\n",
    "            first_ind, second_ind = np.random.choice(np.arange(1, num_cities - 1), size=2, replace=False)\n",
    "            tmp_spec = specimen[first_ind].copy()\n",
    "            if first_ind > second_ind:\n",
    "                specimen[second_ind + 1: first_ind + 1] = specimen[second_ind: first_ind]\n",
    "            else:\n",
    "                specimen[first_ind: second_ind] = specimen[first_ind + 1: second_ind + 1]\n",
    "            specimen[second_ind] = tmp_spec\n",
    "\n",
    "        return specimen\n",
    "\n",
    "    return chromosome"
   ],
   "id": "bb1a491cd3cf928",
   "outputs": [],
   "execution_count": 374
  },
  {
   "metadata": {},
   "cell_type": "markdown",
   "source": "## Crossover",
   "id": "5180dd6a9035facf"
  },
  {
   "metadata": {
    "ExecuteTime": {
     "end_time": "2025-04-21T10:08:28.571104Z",
     "start_time": "2025-04-21T10:08:28.566256Z"
    }
   },
   "cell_type": "code",
   "source": [
    "def crossover(\n",
    "    parent1: np.ndarray,\n",
    "    parent2: np.ndarray,\n",
    "    crossover_probability: float = CROSS_PROB,\n",
    "    crossover_method: Literal[\"order\", \"simple\"] = \"order\",\n",
    "    num_cities: int = CITIES,\n",
    ") -> np.ndarray:\n",
    "    \"\"\"\n",
    "    Perform crossover between two parents to create a child.\n",
    "\n",
    "    :param parent1: First parent chromosome\n",
    "    :param parent2: Second parent chromosome\n",
    "    :param crossover_probability: Probability of crossover\n",
    "    :param crossover_method: Crossover method\n",
    "    :param num_cities:\n",
    "    :return: Child chromosome\n",
    "    \"\"\"\n",
    "    if np.random.rand() < crossover_probability:\n",
    "        # Randomly select two crossover points\n",
    "        start, end = sorted(np.random.choice(np.arange(1, num_cities - 1), size=2, replace=True))\n",
    "        child = np.full_like(parent1, -1)\n",
    "\n",
    "        match crossover_method:\n",
    "            case \"order\":\n",
    "                # Slice from parent1\n",
    "                child[start:end + 1] = parent1[start:end + 1]\n",
    "                fill_index = (end + 1) % num_cities\n",
    "                for gene in parent2:\n",
    "                    if gene not in child:\n",
    "                        child[fill_index] = gene\n",
    "                        fill_index = (fill_index + 1) % num_cities\n",
    "\n",
    "            case \"simple\":\n",
    "                # Slice from parent2 and shuffle it\n",
    "                slice_to_shuffle = parent2[start:end + 1].copy()\n",
    "                np.random.shuffle(slice_to_shuffle)\n",
    "\n",
    "                # Fill child\n",
    "                child[start:end + 1] = slice_to_shuffle\n",
    "\n",
    "                # Fill rest from parent1\n",
    "                for i in range(num_cities):\n",
    "                    if i < start or i > end:\n",
    "                        child[i] = parent1[i]\n",
    "\n",
    "            case _:\n",
    "                raise ValueError(\"Invalid crossover method. Choose either order or simple!\")\n",
    "\n",
    "    return parent1.copy()"
   ],
   "id": "7b1a6ffa56c60fb2",
   "outputs": [],
   "execution_count": 375
  },
  {
   "metadata": {},
   "cell_type": "markdown",
   "source": "## Generate children",
   "id": "5d4a67378a0c5017"
  },
  {
   "metadata": {
    "ExecuteTime": {
     "end_time": "2025-04-21T10:08:29.252517Z",
     "start_time": "2025-04-21T10:08:29.249398Z"
    }
   },
   "cell_type": "code",
   "source": [
    "def generate_children(\n",
    "    parents: np.ndarray,\n",
    "    child_count: int = POP_SIZE,\n",
    "    crossover_probability: float = CROSS_PROB,\n",
    "    mutation_probability: float = MUTATION_PROB,\n",
    "    crossover_method: Literal[\"order\", \"simple\"] = \"order\",\n",
    ") -> np.ndarray:\n",
    "    \"\"\"\n",
    "    Generate children from parents using crossover and mutation.\n",
    "\n",
    "    :param parents: Parent chromosomes\n",
    "    :param child_count: Number of children to generate\n",
    "    :param crossover_probability: Probability of crossover\n",
    "    :param mutation_probability: Probability of mutation\n",
    "    :param crossover_method: Crossover method\n",
    "    :return: Generated children\n",
    "    \"\"\"\n",
    "    children = []\n",
    "\n",
    "    # Number of cities (including repeated 0) from one parent route\n",
    "    num_cities_with_return = parents.shape[1] - 1\n",
    "\n",
    "    while len(children) < child_count:\n",
    "        ind1, ind2 = np.random.choice(np.arange(parents.shape[0]), size=2, replace=True)\n",
    "\n",
    "        # Remove distance column\n",
    "        parent1, parent2 = parents[ind1, :-1], parents[ind2, :-1]\n",
    "\n",
    "        child = crossover(parent1, parent2, crossover_probability=crossover_probability, crossover_method=crossover_method)\n",
    "        child = mutation(child, mutation_probability=mutation_probability)\n",
    "\n",
    "        # Trim to valid route length just in case\n",
    "        child = child[:num_cities_with_return].astype(int)\n",
    "\n",
    "        # Calculate and append distance\n",
    "        distance = calculate_distance(child)\n",
    "        child_with_distance = np.append(child, distance)\n",
    "\n",
    "        children.append(child_with_distance)\n",
    "\n",
    "    return sort_by_distance(np.array(children))\n"
   ],
   "id": "451efceaee1e1270",
   "outputs": [],
   "execution_count": 376
  },
  {
   "metadata": {},
   "cell_type": "markdown",
   "source": "## Succession",
   "id": "74bef1089b9e0353"
  },
  {
   "metadata": {
    "ExecuteTime": {
     "end_time": "2025-04-21T10:08:30.084706Z",
     "start_time": "2025-04-21T10:08:30.080683Z"
    }
   },
   "cell_type": "code",
   "source": [
    "def succession(\n",
    "        parent_generation: np.ndarray,\n",
    "        children_generation: np.ndarray,\n",
    "        population_size: int = POP_SIZE,\n",
    "        successsion_method: Literal[\"full\", \"partial\", \"elitist\"] = SUCCESSION_METHOD,\n",
    "        selection_method: Literal[\"roulette\", \"tournament\"] = SELECTION_METHOD,\n",
    "        elitist_count: int = 5\n",
    ") -> np.ndarray:\n",
    "    \"\"\"\n",
    "    Perform succession to create the next generation by applying the selected inheritance method.\n",
    "\n",
    "    :param parent_generation: The parent generation chromosomes\n",
    "    :param children_generation: The child generation chromosomes\n",
    "    :param population_size: The desired population size of the next generation\n",
    "    :param successsion_method: The succession method to apply\n",
    "    :param selection_method: The selection method to apply\n",
    "    :param elitist_count: How many best specimens to keep in each new generation\n",
    "    :return: The next generation chromosomes\n",
    "    \"\"\"\n",
    "    complete_pop = np.vstack([parent_generation, children_generation])\n",
    "\n",
    "    if successsion_method == \"full\":\n",
    "        # Inherit only the children\n",
    "        return sort_by_distance(children_generation)\n",
    "\n",
    "    elif successsion_method == \"partial\":\n",
    "        best_elite = sort_by_distance(complete_pop)[:elitist_count]\n",
    "        remainder_count = population_size - elitist_count\n",
    "        if selection_method == \"roulette\":\n",
    "            remainder = select_specimens(complete_pop, selection_type='roulette', parent_count=remainder_count, with_replacement=True)\n",
    "        else:\n",
    "            remainder = select_specimens(complete_pop, selection_type='tournament', parent_count=remainder_count, with_replacement=True)\n",
    "\n",
    "        next_generation = np.vstack([best_elite, remainder])\n",
    "        return sort_by_distance(next_generation)[:population_size]\n",
    "\n",
    "    elif successsion_method == \"elitist\":\n",
    "        # Sort and slice to exactly POP_SIZE\n",
    "        return sort_by_distance(complete_pop)[:population_size]\n",
    "\n",
    "    else:\n",
    "        raise ValueError(\"Invalid successsion_method. Choose from 'full', 'partial', or 'elitist'.\")"
   ],
   "id": "7f40355ff65c9f69",
   "outputs": [],
   "execution_count": 377
  },
  {
   "metadata": {},
   "cell_type": "markdown",
   "source": "## Main loop",
   "id": "91353c45f5b48c2a"
  },
  {
   "metadata": {
    "ExecuteTime": {
     "end_time": "2025-04-21T10:14:25.235325Z",
     "start_time": "2025-04-21T10:14:25.229782Z"
    }
   },
   "cell_type": "code",
   "source": [
    "def main_loop(\n",
    "        generations: int,\n",
    "        generated_cities: Tuple[np.ndarray, np.ndarray],\n",
    "        population_size: int = POP_SIZE,\n",
    "        mutation_probability: float = MUTATION_PROB,\n",
    "        crossover_probability: float = CROSS_PROB,\n",
    "        selection_method: Literal[\"roulette\", \"tournament\"] = SELECTION_METHOD,\n",
    "        successsion_method: Literal[\"full\", \"partial\", \"elitist\"] = SUCCESSION_METHOD,\n",
    ") -> Tuple[List, List, List, int]:\n",
    "    \"\"\"\n",
    "    Main loop of the genetic algorithm.\n",
    "\n",
    "    :param generations: Number of generations to run\n",
    "    :param generated_cities: Generated cities\n",
    "    :param population_size: Size of the population\n",
    "    :param mutation_probability: Probability of mutation\n",
    "    :param crossover_probability: Probability of crossover\n",
    "    :param selection_method: Selection method\n",
    "    :param successsion_method: Succession method\n",
    "    :return: Best chromosome from the last generation\n",
    "    \"\"\"\n",
    "    population = generate_initial_population(population_size, CITIES)\n",
    "\n",
    "    all_populations = [population]\n",
    "    mean_distances = []\n",
    "    min_distances = []\n",
    "    max_distances = []\n",
    "    final_generation = 0\n",
    "\n",
    "    for generation in range(generations):\n",
    "        if selection_method == \"roulette\":\n",
    "            selected_parents = select_specimens(population, parent_count=population_size, selection_type='roulette', with_replacement=True)\n",
    "        else:\n",
    "            selected_parents = select_specimens(population, parent_count=population_size, selection_type='tournament', with_replacement=True)\n",
    "\n",
    "        children = generate_children(selected_parents, child_count=population_size, crossover_probability=crossover_probability, mutation_probability=mutation_probability)\n",
    "\n",
    "        population = succession(population, children, population_size=population_size, successsion_method=successsion_method, selection_method=selection_method)\n",
    "        population = sort_by_distance(population)\n",
    "        all_populations.append(population)\n",
    "        best_distance = population[0, -1]\n",
    "        mean_distances.append(population[:, -1].mean())\n",
    "        min_distances.append(population[:, -1].min())\n",
    "        max_distances.append(population[:, -1].max())\n",
    "        final_generation += 1\n",
    "\n",
    "        # check if the best distance does not change between chromosomes\n",
    "        if np.isclose(population[:, -1].std(), 0) and np.isclose(population[:, -1].mean(), best_distance):\n",
    "            print(f\"Early stopping at generation {generation + 1}\")\n",
    "            break\n",
    "\n",
    "        print(f\"Generation {generation+1}, Smallest Distance: {best_distance}\")\n",
    "\n",
    "    generate_gif(generated_cities, all_populations)\n",
    "    return mean_distances, min_distances, max_distances, final_generation\n"
   ],
   "id": "9d83e236e9a88adf",
   "outputs": [],
   "execution_count": 390
  },
  {
   "metadata": {},
   "cell_type": "markdown",
   "source": "## Run the main loop",
   "id": "ccff8136845a4ccc"
  },
  {
   "metadata": {
    "ExecuteTime": {
     "end_time": "2025-04-21T10:14:36.024233Z",
     "start_time": "2025-04-21T10:14:26.270889Z"
    }
   },
   "cell_type": "code",
   "source": [
    "# Run the main loop for 100 generations\n",
    "cities = setup_cities(POP_SIZE, CITIES_X_LIMIT, CITIES_Y_LIMIT, shape=\"ring\")\n",
    "mean_dist, min_dist, max_dist, final_gen = main_loop(GENERATIONS, cities, POP_SIZE, mutation_probability=MUTATION_PROB, crossover_probability=CROSS_PROB, selection_method=SELECTION_METHOD, successsion_method=SUCCESSION_METHOD)"
   ],
   "id": "f81a541be08ada3",
   "outputs": [
    {
     "name": "stdout",
     "output_type": "stream",
     "text": [
      "Generation 1, Smallest Distance: 8348.176959198423\n",
      "Generation 2, Smallest Distance: 7662.358341921523\n",
      "Generation 3, Smallest Distance: 7662.358341921523\n",
      "Generation 4, Smallest Distance: 7579.519633955288\n",
      "Generation 5, Smallest Distance: 7360.767995255185\n",
      "Generation 6, Smallest Distance: 7206.63008345295\n",
      "Generation 7, Smallest Distance: 7127.684139925551\n",
      "Generation 8, Smallest Distance: 7111.976976440108\n",
      "Generation 9, Smallest Distance: 6725.723890096172\n",
      "Generation 10, Smallest Distance: 6523.280917975221\n",
      "Generation 11, Smallest Distance: 6271.024255255014\n",
      "Generation 12, Smallest Distance: 6271.024255255014\n",
      "Generation 13, Smallest Distance: 6192.023653159315\n",
      "Generation 14, Smallest Distance: 6167.288253707311\n",
      "Generation 15, Smallest Distance: 6167.288253707311\n",
      "Generation 16, Smallest Distance: 5970.794640221861\n",
      "Generation 17, Smallest Distance: 5778.895851200783\n",
      "Generation 18, Smallest Distance: 5778.895851200783\n",
      "Generation 19, Smallest Distance: 5778.895851200783\n",
      "Generation 20, Smallest Distance: 5752.080588551201\n",
      "Generation 21, Smallest Distance: 5312.109177722412\n",
      "Generation 22, Smallest Distance: 5312.109177722412\n",
      "Generation 23, Smallest Distance: 5126.961513724722\n",
      "Generation 24, Smallest Distance: 5126.961513724722\n",
      "Generation 25, Smallest Distance: 5126.961513724722\n",
      "Generation 26, Smallest Distance: 5126.961513724722\n",
      "Generation 27, Smallest Distance: 5078.211358360045\n",
      "Generation 28, Smallest Distance: 5078.211358360045\n",
      "Generation 29, Smallest Distance: 5014.735853487721\n",
      "Generation 30, Smallest Distance: 4936.143698869974\n",
      "Generation 31, Smallest Distance: 4936.143698869974\n",
      "Generation 32, Smallest Distance: 4662.290828854905\n",
      "Generation 33, Smallest Distance: 4662.290828854905\n",
      "Generation 34, Smallest Distance: 4662.290828854905\n",
      "Generation 35, Smallest Distance: 4662.208243675746\n",
      "Generation 36, Smallest Distance: 4662.208243675746\n",
      "Generation 37, Smallest Distance: 4662.208243675746\n",
      "Generation 38, Smallest Distance: 4662.208243675746\n",
      "Generation 39, Smallest Distance: 4575.735827414706\n",
      "Generation 40, Smallest Distance: 4575.735827414706\n",
      "Generation 41, Smallest Distance: 4282.482382518604\n",
      "Generation 42, Smallest Distance: 4282.482382518604\n",
      "Generation 43, Smallest Distance: 4282.482382518604\n",
      "Generation 44, Smallest Distance: 4205.554308154994\n",
      "Generation 45, Smallest Distance: 4205.554308154994\n",
      "Generation 46, Smallest Distance: 4050.4589505975237\n",
      "Generation 47, Smallest Distance: 3937.942470716422\n",
      "Generation 48, Smallest Distance: 3937.942470716422\n",
      "Generation 49, Smallest Distance: 3851.3320118844126\n",
      "Generation 50, Smallest Distance: 3851.3320118844126\n",
      "Generation 51, Smallest Distance: 3792.15961384914\n",
      "Generation 52, Smallest Distance: 3792.15961384914\n",
      "Generation 53, Smallest Distance: 3792.15961384914\n",
      "Generation 54, Smallest Distance: 3792.15961384914\n",
      "Generation 55, Smallest Distance: 3792.15961384914\n",
      "Generation 56, Smallest Distance: 3792.15961384914\n",
      "Generation 57, Smallest Distance: 3792.15961384914\n",
      "Generation 58, Smallest Distance: 3792.15961384914\n",
      "Generation 59, Smallest Distance: 3792.15961384914\n",
      "Generation 60, Smallest Distance: 3792.15961384914\n",
      "Generation 61, Smallest Distance: 3792.15961384914\n",
      "Generation 62, Smallest Distance: 3753.447118597451\n",
      "Generation 63, Smallest Distance: 3753.447118597451\n",
      "Generation 64, Smallest Distance: 3753.447118597451\n",
      "Generation 65, Smallest Distance: 3511.725784791642\n",
      "Generation 66, Smallest Distance: 3511.725784791642\n",
      "Generation 67, Smallest Distance: 3511.725784791642\n",
      "Generation 68, Smallest Distance: 3511.725784791642\n",
      "Generation 69, Smallest Distance: 3511.725784791642\n",
      "Generation 70, Smallest Distance: 3511.725784791642\n",
      "Generation 71, Smallest Distance: 3477.376722911002\n",
      "Generation 72, Smallest Distance: 3477.376722911002\n",
      "Generation 73, Smallest Distance: 3477.376722911002\n",
      "Generation 74, Smallest Distance: 3477.376722911002\n",
      "Generation 75, Smallest Distance: 3477.376722911002\n",
      "Generation 76, Smallest Distance: 3477.376722911002\n",
      "Generation 77, Smallest Distance: 3477.376722911002\n",
      "Generation 78, Smallest Distance: 3477.376722911002\n",
      "Generation 79, Smallest Distance: 3477.376722911002\n",
      "Generation 80, Smallest Distance: 3477.376722911002\n",
      "Early stopping at generation 81\n"
     ]
    }
   ],
   "execution_count": 391
  },
  {
   "metadata": {},
   "cell_type": "markdown",
   "source": "## Plots",
   "id": "47ba69eb5ef27e5a"
  },
  {
   "metadata": {
    "ExecuteTime": {
     "end_time": "2025-04-21T10:15:10.316767Z",
     "start_time": "2025-04-21T10:15:10.236416Z"
    }
   },
   "cell_type": "code",
   "source": [
    "def normalize(values: np.ndarray) -> np.ndarray:\n",
    "    return (values - np.min(values)) / (np.max(values) - np.min(values))\n",
    "\n",
    "\n",
    "mean_dist_norm = normalize(np.array(mean_dist))\n",
    "min_dist_norm = normalize(np.array(min_dist))\n",
    "max_dist_norm = normalize(np.array(max_dist))\n",
    "\n",
    "plt.figure(figsize=(10, 6))\n",
    "plt.plot(range(final_gen), mean_dist_norm, label='Normalized Mean Distance', color='blue')\n",
    "plt.fill_between(range(final_gen), min_dist_norm, max_dist_norm, color='gray', alpha=0.5, label='Min-Max Range')\n",
    "plt.title(\"Genetic Algorithm Progress: Normalized Mean Distance with Min-Max Range\")\n",
    "plt.xlabel(\"Generation\")\n",
    "plt.ylabel(\"Normalized Distance\")\n",
    "plt.legend()\n",
    "plt.show()"
   ],
   "id": "f5e81a923a945996",
   "outputs": [
    {
     "data": {
      "text/plain": [
       "<Figure size 1000x600 with 1 Axes>"
      ],
      "image/png": "[encoded data removed]"
     },
     "metadata": {},
     "output_type": "display_data"
    }
   ],
   "execution_count": 394
  },
  {
   "metadata": {},
   "cell_type": "markdown",
   "source": [
    "<video width=\"640\" height=\"480\" controls>\n",
    "  <source src=\"cities.mp4\" type=\"video/mp4\">\n",
    "  <a href=>You can still see the gif here :)</a>\n",
    "</video>"
   ],
   "id": "ca80b11e7325d4fc"
  }
 ],
 "metadata": {
  "kernelspec": {
   "display_name": "Python 3",
   "language": "python",
   "name": "python3"
  },
  "language_info": {
   "codemirror_mode": {
    "name": "ipython",
    "version": 2
   },
   "file_extension": ".py",
   "mimetype": "text/x-python",
   "name": "python",
   "nbconvert_exporter": "python",
   "pygments_lexer": "ipython2",
   "version": "2.7.6"
  }
 },
 "nbformat": 4,
 "nbformat_minor": 5
}
