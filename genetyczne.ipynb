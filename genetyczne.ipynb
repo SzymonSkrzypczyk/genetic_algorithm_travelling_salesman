{
 "cells": [
  {
   "cell_type": "markdown",
   "id": "a473aca1-96c4-490b-aab1-1738c90c6ddb",
   "metadata": {},
   "source": [
    "# Problem Komiwojażera przy pomocy Algorytmów Genetycznych\n",
    "## By Szymon Skrzypczyk ;)"
   ]
  },
  {
   "cell_type": "code",
   "execution_count": 1,
   "id": "f5d0a4a4-8e57-41d5-acac-11f73afc9e0a",
   "metadata": {},
   "outputs": [],
   "source": [
    "from random import randint\n",
    "import numpy as np\n",
    "import pandas as pd\n",
    "import matplotlib.pyplot as plt\n",
    "import seaborn as sbn"
   ]
  },
  {
   "cell_type": "code",
   "execution_count": 2,
   "id": "6a69dd63-81a5-465e-bf21-458ac082fd91",
   "metadata": {},
   "outputs": [],
   "source": [
    "# beda jako parametry\n",
    "# rozmiary \n",
    "# ilosc punktow n\n",
    "# warunek koncowy\n",
    "n = 50 \n",
    "pop_size = 100\n",
    "selected_items = 25\n",
    "distance_threshold = 100\n",
    "cross_prob = 0.8\n",
    "mutation_prob = 0.2\n",
    "selection_method = \"ranking\"  # \"roulette\""
   ]
  },
  {
   "cell_type": "code",
   "execution_count": 3,
   "id": "310b4ac8-8d95-43d8-a486-17e8af622eda",
   "metadata": {},
   "outputs": [
    {
     "data": {
      "text/plain": [
       "78.50105179498642"
      ]
     },
     "execution_count": 3,
     "metadata": {},
     "output_type": "execute_result"
    }
   ],
   "source": [
    "cities = np.random.uniform(0, 300, (n, 2))\n",
    "# dystans euklidesowski\n",
    "calc_distance = lambda p1, p2: np.sqrt((p1[0] - p2[0]) ** 2 + (p1[1] - p2[1]) ** 2)\n",
    "\n",
    "calc_distance(cities[0], cities[1])"
   ]
  },
  {
   "cell_type": "markdown",
   "id": "0247e5e0-4a2f-40dd-8dba-48dac832ebe3",
   "metadata": {},
   "source": [
    "## Położenie miast na \"mapie\""
   ]
  },
  {
   "cell_type": "code",
   "execution_count": 4,
   "id": "755f6104-ef0b-42cb-8861-95da95118034",
   "metadata": {},
   "outputs": [
    {
     "data": {
      "text/plain": [
       "<matplotlib.collections.PathCollection at 0x1a9c7f106a0>"
      ]
     },
     "execution_count": 4,
     "metadata": {},
     "output_type": "execute_result"
    },
    {
     "data": {
      "image/png": "[encoded data removed]",
      "text/plain": [
       "<Figure size 640x480 with 1 Axes>"
      ]
     },
     "metadata": {},
     "output_type": "display_data"
    }
   ],
   "source": [
    "# do poprawy stylownia itd itd\n",
    "plt.scatter(cities[:, 0], cities[:, 1])"
   ]
  },
  {
   "cell_type": "markdown",
   "id": "052ec6e7-a553-4149-8636-cc0b15ef70d9",
   "metadata": {},
   "source": [
    "## macierz dystansow miedzy miastami"
   ]
  },
  {
   "cell_type": "code",
   "execution_count": 5,
   "id": "c641b492-bd4c-464d-a00e-d1e28d3b0b35",
   "metadata": {},
   "outputs": [],
   "source": [
    "# tablica odleglosci \n",
    "distances = []\n",
    "for nx in range(n):\n",
    "    distances_nx = []\n",
    "    for mx in range(n):\n",
    "        if mx == nx:\n",
    "            distances_nx.append(np.nan)\n",
    "        distances_nx.append(calc_distance(cities[nx], cities[mx]))\n",
    "                            \n",
    "    distances.append(distances_nx)\n",
    "\n",
    "distances = pd.DataFrame(distances)"
   ]
  },
  {
   "cell_type": "code",
   "execution_count": 6,
   "id": "ea7d304c-61eb-4dc6-b3ce-7355dadc49c3",
   "metadata": {},
   "outputs": [
    {
     "data": {
      "text/plain": [
       "array([[10,  8,  6, ..., 31, 18, 40],\n",
       "       [11,  1,  8, ..., 44, 42, 25],\n",
       "       [12, 49,  4, ...,  2, 34,  8],\n",
       "       ...,\n",
       "       [26, 38, 35, ...,  5, 33, 40],\n",
       "       [11, 35, 29, ..., 33, 31, 44],\n",
       "       [28, 49, 19, ..., 22,  9, 17]], dtype=int64)"
      ]
     },
     "execution_count": 6,
     "metadata": {},
     "output_type": "execute_result"
    }
   ],
   "source": [
    "population = np.array([np.random.permutation(distances.index) for _ in range(pop_size)])\n",
    "population"
   ]
  },
  {
   "cell_type": "markdown",
   "id": "e0c2a38e-21e2-4c28-bfd8-07db2fd8f762",
   "metadata": {},
   "source": [
    "## Operatory genetyczne"
   ]
  },
  {
   "cell_type": "code",
   "execution_count": 7,
   "id": "0c7af4da-5246-4d89-8a8d-0a781e57cb51",
   "metadata": {},
   "outputs": [
    {
     "data": {
      "text/plain": [
       "array([36, 16, 39, 23, 43, 11,  5,  7, 31,  8, 33,  9, 25, 13, 38, 24, 21,\n",
       "       29, 12, 19, 47, 46, 18, 42, 37,  4,  0, 40, 35, 22,  3, 10,  2, 32,\n",
       "       15, 14, 20, 26,  1, 45, 30, 17, 44,  6, 27, 34, 48, 49, 28, 41],\n",
       "      dtype=int64)"
      ]
     },
     "execution_count": 7,
     "metadata": {},
     "output_type": "execute_result"
    }
   ],
   "source": [
    "def mutate(pop_list):\n",
    "    pop_el = pop_list.copy()\n",
    "    # phase 1\n",
    "    exchange_element_1 = randint(0, n)\n",
    "    exchange_element_2 = randint(0, n)\n",
    "\n",
    "    # can't swap the same element, but they will be distinct by definition\n",
    "    # while exchange_element_2 == exchange_element_1:\n",
    "    #    exchange_element_2 = randint(0, n)\n",
    "    \n",
    "    pop_el[exchange_element_1], pop_el[exchange_element_2] = pop_el[exchange_element_2], pop_el[exchange_element_1]\n",
    "\n",
    "    # Phase 2\n",
    "    exchange_start = randint(0, n - 2) \n",
    "    exchange_end = randint(exchange_start + 2, n) \n",
    "    # the index cannot be larger than the actual array\n",
    "    exchange_end = min(exchange_end, len(pop_el))  \n",
    "\n",
    "    el_start = pop_el[exchange_start]\n",
    "    pop_el = np.delete(pop_el, exchange_start)\n",
    "    pop_el = np.insert(pop_el, exchange_end, el_start) \n",
    "\n",
    "    return pop_el \n",
    "\n",
    "mutate(population[9])"
   ]
  },
  {
   "cell_type": "code",
   "execution_count": 14,
   "id": "8954e96b-f8ce-4173-922f-d0f0dbb85fe1",
   "metadata": {},
   "outputs": [
    {
     "data": {
      "text/plain": [
       "array([10, 48,  1, 46, 29, 20, 15,  5, 40,  3, 38, 39, 18, 13, 24, 12,  9,\n",
       "       14, 30,  4,  7, 28, 27, 33, 43, 49, 23, 41, 19, 37, 31,  0, 35, 17,\n",
       "       26, 25, 11, 44, 21, 42, 22, 16,  6, 32, 47, 36, 45,  2, 34,  8])"
      ]
     },
     "execution_count": 14,
     "metadata": {},
     "output_type": "execute_result"
    }
   ],
   "source": [
    "def crossover(parent1, parent2):\n",
    "    child = np.full(n, -1) \n",
    "\n",
    "    exchange_start = randint(0, n - 1) \n",
    "    exchange_end = randint(exchange_start + 1, n)  \n",
    "\n",
    "    # assign crossover elements\n",
    "    child[exchange_start:exchange_end] = parent1[exchange_start:exchange_end]\n",
    "\n",
    "    # genes that have already been added\n",
    "    added_genes = child[exchange_start:exchange_end]\n",
    "    # position of next entry\n",
    "    child_index = 0\n",
    "\n",
    "    for gene in parent2:\n",
    "        if gene not in added_genes:  \n",
    "            while child_index < n and child[child_index] != -1:\n",
    "                child_index += 1\n",
    "            if child_index < n:\n",
    "                child[child_index] = gene\n",
    "\n",
    "    return child\n",
    "\n",
    "\n",
    "crossover(population[1], population[2])"
   ]
  },
  {
   "cell_type": "code",
   "execution_count": 15,
   "id": "8b145768-9323-45e0-b93d-73a2f047dd73",
   "metadata": {},
   "outputs": [
    {
     "data": {
      "text/plain": [
       "9199.207444017742"
      ]
     },
     "execution_count": 15,
     "metadata": {},
     "output_type": "execute_result"
    }
   ],
   "source": [
    "def calculate_distance_chromosome(chromosome):\n",
    "    total = 0 \n",
    "    for start_el, next_el in zip(range(n-1), range(1, n)):\n",
    "        # print(start_el, next_el, distances.iloc[chromosome[start_el], chromosome[next_el]])\n",
    "        total += distances.iloc[chromosome[start_el], chromosome[next_el]]\n",
    "\n",
    "    return total\n",
    "\n",
    "\n",
    "calculate_distance_chromosome(population[5])"
   ]
  },
  {
   "cell_type": "code",
   "execution_count": 10,
   "id": "c055d5d3-ec65-40f3-8b3e-6ad8d3cf9e32",
   "metadata": {},
   "outputs": [
    {
     "data": {
      "text/plain": [
       "array([[30., 40., 24., ..., 26., 17., 12.],\n",
       "       [26., 44., 32., ...,  0., 10., 45.],\n",
       "       [30., 28., 15., ...,  1., 11., 42.],\n",
       "       ...,\n",
       "       [41., 36.,  4., ..., 44., 11., 23.],\n",
       "       [41., 33.,  0., ...,  3.,  1., 26.],\n",
       "       [23., 12., 34., ..., 31., 17., 46.]])"
      ]
     },
     "execution_count": 10,
     "metadata": {},
     "output_type": "execute_result"
    }
   ],
   "source": [
    "def selection_roulette(all_chromosomes, select_count=selected_items):\n",
    "    summed = np.array([calculate_distance_chromosome(chromosome) for chromosome in all_chromosomes])\n",
    "    probabilities = 1 / summed\n",
    "    probabilities /= np.sum(probabilities)\n",
    "\n",
    "    selected_indexes = np.random.choice(len(all_chromosomes), select_count, p=probabilities)\n",
    "    \n",
    "    result = np.zeros((select_count, all_chromosomes.shape[1]))\n",
    "    for idx, selected_index in enumerate(selected_indexes):\n",
    "        result[idx, :] = all_chromosomes[selected_index, :]\n",
    "\n",
    "    return result\n",
    "\n",
    "selection_roulette(population)"
   ]
  },
  {
   "cell_type": "code",
   "execution_count": 11,
   "id": "f9ec8a2d-e895-4b12-b541-9bac39624a16",
   "metadata": {},
   "outputs": [
    {
     "data": {
      "text/plain": [
       "array([[19.,  4., 23., ..., 44., 15., 21.],\n",
       "       [21., 37., 46., ...,  1., 41., 36.],\n",
       "       [ 1.,  5., 12., ..., 29., 19.,  0.],\n",
       "       ...,\n",
       "       [27., 44., 34., ..., 10.,  1., 15.],\n",
       "       [16.,  0., 29., ..., 22., 11., 40.],\n",
       "       [28., 37., 48., ..., 18., 34., 30.]])"
      ]
     },
     "execution_count": 11,
     "metadata": {},
     "output_type": "execute_result"
    }
   ],
   "source": [
    "def selection_ranking(all_chromosomes, select_count=selected_items):\n",
    "    summed = np.array([calculate_distance_chromosome(chromosome) for chromosome in all_chromosomes])\n",
    "    selected_indexes = np.argsort(summed)[:select_count]\n",
    "\n",
    "    result = np.zeros((select_count, all_chromosomes.shape[1])) \n",
    "    for idx, selected_index in enumerate(selected_indexes):\n",
    "        result[idx, :] = all_chromosomes[selected_index, :]\n",
    "\n",
    "    return result\n",
    "\n",
    "selection_ranking(population)"
   ]
  },
  {
   "cell_type": "code",
   "execution_count": null,
   "id": "57e6417c-e9b5-4945-9bcd-5801cadfe3a6",
   "metadata": {},
   "outputs": [],
   "source": []
  },
  {
   "cell_type": "code",
   "execution_count": null,
   "id": "e1b3fa2b-8eea-463f-ae91-4a9c32e2390b",
   "metadata": {},
   "outputs": [],
   "source": []
  }
 ],
 "metadata": {
  "kernelspec": {
   "display_name": "Python 3 (ipykernel)",
   "language": "python",
   "name": "python3"
  },
  "language_info": {
   "codemirror_mode": {
    "name": "ipython",
    "version": 3
   },
   "file_extension": ".py",
   "mimetype": "text/x-python",
   "name": "python",
   "nbconvert_exporter": "python",
   "pygments_lexer": "ipython3",
   "version": "3.10.16"
  }
 },
 "nbformat": 4,
 "nbformat_minor": 5
}
